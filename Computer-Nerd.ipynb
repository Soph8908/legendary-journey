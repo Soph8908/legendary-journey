{
 "cells": [
  {
   "cell_type": "markdown",
   "metadata": {},
   "source": [
    "Create your own Formula one team."
   ]
  },
  {
   "cell_type": "code",
   "execution_count": 1,
   "metadata": {},
   "outputs": [
    {
     "name": "stdout",
     "output_type": "stream",
     "text": [
      "Your own formula one team.\n"
     ]
    }
   ],
   "source": [
    "print(\"Your own formula one team.\")\n",
    "\n",
    "team = input(\"Pick a number between 1 and 10\")\n",
    "driver = input(\"Pick a random F1 driver on the current grid\")\n",
    "secDriver = input(\"Pick a second driver on the grid.\")\n",
    "reserveDriver = input(\"Pick a F2 driver or an ex F1 driver.\")\n",
    "\n",
    "if team == \"1\":\n",
    "    print(\"Your team is: Oracle Redbull Racing\")\n",
    "    print(\"Your main driver is:\", driver)\n",
    "    print(\"Your second driver is:\", secDriver)\n",
    "    print(\"Your teams reserve driver is:\", reserveDriver)\n",
    "elif team == \"2\":\n",
    "    print(\"Your team is: MoneyGram Haas F1 Team\")\n",
    "    print(\"Your main driver is:\", driver)\n",
    "    print(\"Your second driver is:\", secDriver)\n",
    "    print(\"Your teams reserve driver is:\", reserveDriver)\n",
    "elif team == \"3\":\n",
    "    print(\"Your team is: Scuderia Ferrari\")\n",
    "    print(\"Your main driver is:\", driver)\n",
    "    print(\"Your second driver is:\", secDriver)\n",
    "    print(\"Your teams reserve driver is:\", reserveDriver)\n",
    "elif team == \"4\":\n",
    "    print(\"Your team is: Williams Racing\")\n",
    "    print(\"Your main driver is:\", driver)\n",
    "    print(\"Your second driver is:\", secDriver)\n",
    "    print(\"Your teams reserve driver is:\", reserveDriver)\n",
    "elif team == \"5\":\n",
    "    print(\"Your team is: Aston Martin Aramco F1 Team\")\n",
    "    print(\"Your main driver is:\", driver)\n",
    "    print(\"Your second driver is:\", secDriver)\n",
    "    print(\"Your teams reserve driver is:\", reserveDriver)\n",
    "elif team == \"6\":\n",
    "    print(\"Your team is: Stake F1 Team Kick Sauber\")\n",
    "    print(\"Your main driver is:\", driver)\n",
    "    print(\"Your second driver is:\", secDriver)\n",
    "    print(\"Your teams reserve driver is:\", reserveDriver)\n",
    "elif team == \"7\":\n",
    "    print(\"Your team is: Mercedes-AMG PETRONAS F1 Team\")\n",
    "    print(\"Your main driver is:\", driver)\n",
    "    print(\"Your second driver is:\", secDriver)\n",
    "    print(\"Your teams reserve driver is:\", reserveDriver)\n",
    "elif team == \"8\":\n",
    "    print(\"Your team is: BWT Alpine F1 Team\")\n",
    "    print(\"Your main driver is:\", driver)\n",
    "    print(\"Your second driver is:\", secDriver)\n",
    "    print(\"Your teams reserve driver is:\", reserveDriver)\n",
    "elif team == \"9\":\n",
    "    print(\"Your team is: Mclaren Formula 1 Team\")\n",
    "    print(\"Your main driver is:\", driver)\n",
    "    print(\"Your second driver is:\", secDriver)\n",
    "    print(\"Your teams reserve driver is:\", reserveDriver)\n",
    "elif team == \"10\":\n",
    "    print(\"Your team is: Visa Cash App RB Formula One Team\")\n",
    "    print(\"Your main driver is:\", driver)\n",
    "    print(\"Your second driver is:\", secDriver)\n",
    "    print(\"Your teams reserve driver is:\", reserveDriver)\n",
    "else:\n",
    "    print(\"I don't think you followed my instructions properly.\")\n",
    "    print(\"Try again and this time answer the question properly.\")"
   ]
  }
 ],
 "metadata": {
  "kernelspec": {
   "display_name": "Python 3",
   "language": "python",
   "name": "python3"
  },
  "language_info": {
   "codemirror_mode": {
    "name": "ipython",
    "version": 3
   },
   "file_extension": ".py",
   "mimetype": "text/x-python",
   "name": "python",
   "nbconvert_exporter": "python",
   "pygments_lexer": "ipython3",
   "version": "3.10.13"
  }
 },
 "nbformat": 4,
 "nbformat_minor": 2
}

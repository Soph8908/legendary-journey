{
 "cells": [
  {
   "cell_type": "markdown",
   "metadata": {},
   "source": [
    "Create your own Formula one team."
   ]
  },
  {
   "cell_type": "code",
   "execution_count": 2,
   "metadata": {},
   "outputs": [
    {
     "name": "stdout",
     "output_type": "stream",
     "text": [
      "Your own formula one team.\n",
      "Your team is: Mercedes-AMG PETRONAS F1 Team\n",
      "Your main driver is: Charles Leclerc\n",
      "Your second driver is: Lando Norris\n",
      "Your teams reserve driver is: Kimi Antonelli\n"
     ]
    }
   ],
   "source": [
    "print(\"Your own formula one team.\")\n",
    "\n",
    "team = input(\"Pick a number between 1 and 10\")\n",
    "driver = input(\"Pick a random F1 driver on the current grid\")\n",
    "secDriver = input(\"Pick a second driver on the grid.\")\n",
    "reserveDriver = input(\"Pick a F2 driver or an ex F1 driver.\")\n",
    "\n",
    "if team == \"1\":\n",
    "    print(\"Your team is: Oracle Redbull Racing\")\n",
    "    print(\"Your main driver is:\", driver)\n",
    "    print(\"Your second driver is:\", secDriver)\n",
    "    print(\"Your teams reserve driver is:\", reserveDriver)\n",
    "elif team == \"2\":\n",
    "    print(\"Your team is: MoneyGram Haas F1 Team\")\n",
    "    print(\"Your main driver is:\", driver)\n",
    "    print(\"Your second driver is:\", secDriver)\n",
    "    print(\"Your teams reserve driver is:\", reserveDriver)\n",
    "elif team == \"3\":\n",
    "    print(\"Your team is: Scuderia Ferrari\")\n",
    "    print(\"Your main driver is:\", driver)\n",
    "    print(\"Your second driver is:\", secDriver)\n",
    "    print(\"Your teams reserve driver is:\", reserveDriver)\n",
    "elif team == \"4\":\n",
    "    print(\"Your team is: Williams Racing\")\n",
    "    print(\"Your main driver is:\", driver)\n",
    "    print(\"Your second driver is:\", secDriver)\n",
    "    print(\"Your teams reserve driver is:\", reserveDriver)\n",
    "elif team == \"5\":\n",
    "    print(\"Your team is: Aston Martin Aramco F1 Team\")\n",
    "    print(\"Your main driver is:\", driver)\n",
    "    print(\"Your second driver is:\", secDriver)\n",
    "    print(\"Your teams reserve driver is:\", reserveDriver)\n",
    "elif team == \"6\":\n",
    "    print(\"Your team is: Stake F1 Team Kick Sauber\")\n",
    "    print(\"Your main driver is:\", driver)\n",
    "    print(\"Your second driver is:\", secDriver)\n",
    "    print(\"Your teams reserve driver is:\", reserveDriver)\n",
    "elif team == \"7\":\n",
    "    print(\"Your team is: Mercedes-AMG PETRONAS F1 Team\")\n",
    "    print(\"Your main driver is:\", driver)\n",
    "    print(\"Your second driver is:\", secDriver)\n",
    "    print(\"Your teams reserve driver is:\", reserveDriver)\n",
    "elif team == \"8\":\n",
    "    print(\"Your team is: BWT Alpine F1 Team\")\n",
    "    print(\"Your main driver is:\", driver)\n",
    "    print(\"Your second driver is:\", secDriver)\n",
    "    print(\"Your teams reserve driver is:\", reserveDriver)\n",
    "elif team == \"9\":\n",
    "    print(\"Your team is: Mclaren Formula 1 Team\")\n",
    "    print(\"Your main driver is:\", driver)\n",
    "    print(\"Your second driver is:\", secDriver)\n",
    "    print(\"Your teams reserve driver is:\", reserveDriver)\n",
    "elif team == \"10\":\n",
    "    print(\"Your team is: Visa Cash App RB Formula One Team\")\n",
    "    print(\"Your main driver is:\", driver)\n",
    "    print(\"Your second driver is:\", secDriver)\n",
    "    print(\"Your teams reserve driver is:\", reserveDriver)\n",
    "else:\n",
    "    print(\"I don't think you followed my instructions properly.\")\n",
    "    print(\"Try again and this time answer the question properly.\")"
   ]
  },
  {
   "cell_type": "markdown",
   "metadata": {},
   "source": [
    "Song creater"
   ]
  },
  {
   "cell_type": "code",
   "execution_count": 4,
   "metadata": {},
   "outputs": [
    {
     "name": "stdout",
     "output_type": "stream",
     "text": [
      "Create your own song\n",
      "My song\n",
      "I was Depressed stearing my Chocolate\n",
      "Until I saw Blue bellss from my ex\n",
      "I wondered who will be my next\n",
      "\n",
      "Jack will see my soon, will him be my next?\n",
      "Or will my next be Lando, probably not\n",
      "I've never met him but wouldn't that be cool, cool\n",
      "\n",
      "I was Depressed stearing my Chocolate\n",
      "Until I saw Blue bellss from my ex\n",
      "I wondered who will be my next\n"
     ]
    }
   ],
   "source": [
    "print(\"Create your own song\")\n",
    "print()\n",
    "\n",
    "songName = input(\"What do you want to call your song?\")\n",
    "emotion = input(\"Pick an emotion\")\n",
    "food = input(\"Pick a type of food\")\n",
    "flower = input (\"Pick a type of flower\")\n",
    "name = input(\"Pick a name\")\n",
    "gender = input(f\"Whatr is a pronoun {name} uses?\")\n",
    "celeb = input(\"Pick a celebraty or someone famous\")\n",
    "celebGender = input(f\"What is a pronoun {celeb} uses?\")\n",
    "\n",
    "print(songName)\n",
    "print()\n",
    "print (f\"\"\"I was {emotion} stearing my {food}\n",
    "Until I saw {flower}s from my ex\n",
    "I wondered who will be my next\n",
    "\n",
    "{name} will see my soon, will {gender} be my next?\n",
    "Or will my next be {celeb}, probably not\n",
    "I've never met {celebGender} but wouldn't that be cool (cool)\n",
    "\n",
    "I was {emotion} stearing my {food}\n",
    "Until I saw {flower}s from my ex\n",
    "I wondered who will be my next\"\"\")"
   ]
  },
  {
   "cell_type": "markdown",
   "metadata": {},
   "source": [
    "Formula 1 Quiz"
   ]
  },
  {
   "cell_type": "code",
   "execution_count": 5,
   "metadata": {},
   "outputs": [
    {
     "name": "stdout",
     "output_type": "stream",
     "text": [
      "Formula One Quiz!\n",
      "\n"
     ]
    },
    {
     "data": {
      "text/plain": [
       "'1950'"
      ]
     },
     "execution_count": 5,
     "metadata": {},
     "output_type": "execute_result"
    }
   ],
   "source": [
    "print(\"Formula One Quiz!\")\n",
    "print()\n",
    "cal24 = input(\"How many races are on the 2024 F1 calandar?\")\n",
    "if cal24 == \"24\" or cal24 == \"twenty four\":\n",
    "    champLead = input(\"Who is currently leading the drivers championship?\")\n",
    "    if champLead == \"Max\" or champLead == \"Max Verstappen\" or champLead == \"Verstappen\":\n",
    "        constructLead = input(\"What team is currently leading the constructers championship?\")\n",
    "        if constructLead == \"Redbull\" or constructLead == \"Red Bull\" or constructLead == \"Oracle Red Bull Racing\" or constructLead == \"Redbull Racing\" or constructLead == \"Red Bull Racing\":\n",
    "            firstWin = input(\"Name one driver that had there first win this season\")\n",
    "            if firstWin == \"Oscar\" or firstWin == \"Oscar Piastri\" or firstWin == \"Piastri\" or firstWin == \"Lando\" or firstWin == \"Lando Norris\" or firstWin == \"Norris\":\n",
    "                teamFirstWin = input(\"Name one team that had two different drivers win a race this season\")\n",
    "                if teamFirstWin == \"Mercades\" or teamFirstWin == \"Farrari\" or teamFirstWin == \"Mclaren\":\n",
    "                    carlosTeam = input(\"What team is Carlos going to next season?\")\n",
    "                    lewisTeam = input(\"Who is taking Carlos's seat next season?\")\n",
    "                    if carlosTeam == \"Williams\" and lewisTeam == \"Farrari\":\n",
    "                        newDriver = input(\"Who is the driver confirmed to come up to F1 next year\")\n",
    "                        if newDriver == \"Ollie\" or newDriver == \"Ollie Bearman\" or newDriver == \"Bearman\" or newDriver == \"Oliver\" or newDriver == \"Oliver Bearman\":\n",
    "                            champs = input(\"Who has the most championship wins on the current grid?\")\n",
    "                            # if champs == \"Lewis\" or champs == \"Lewis Hamilton\" or champs == \"Hamilton\":"
   ]
  }
 ],
 "metadata": {
  "kernelspec": {
   "display_name": "Python 3",
   "language": "python",
   "name": "python3"
  },
  "language_info": {
   "codemirror_mode": {
    "name": "ipython",
    "version": 3
   },
   "file_extension": ".py",
   "mimetype": "text/x-python",
   "name": "python",
   "nbconvert_exporter": "python",
   "pygments_lexer": "ipython3",
   "version": "3.10.13"
  }
 },
 "nbformat": 4,
 "nbformat_minor": 2
}
